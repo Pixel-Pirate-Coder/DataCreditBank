{
 "cells": [
  {
   "cell_type": "markdown",
   "source": [
    "# Практическая работа"
   ],
   "attachments": {},
   "metadata": {
    "datalore": {
     "node_id": "SKuBaxzLRXreAzYL8vIepa",
     "type": "MD",
     "hide_input_from_viewers": false,
     "hide_output_from_viewers": false,
     "report_properties": {
      "rowId": "0r2lOsqs2Wr87oTycaBSg7"
     }
    }
   }
  },
  {
   "cell_type": "markdown",
   "source": [
    "# Задача"
   ],
   "attachments": {},
   "metadata": {
    "datalore": {
     "node_id": "XnmHTrCRWP1od1BaXsPF2n",
     "type": "MD",
     "hide_input_from_viewers": false,
     "hide_output_from_viewers": false,
     "report_properties": {
      "rowId": "b94RJJDpf3Jg3HHHLwFw81"
     }
    }
   }
  },
  {
   "cell_type": "markdown",
   "source": [
    "Один из способов повысить эффективность взаимодействия банка с клиентами — отправлять предложение о новой услуге не всем клиентам, а только некоторым, которые выбираются по принципу наибольшей склонности к отклику на это предложение.\n",
    "\n",
    "Задача заключается в том, чтобы предложить алгоритм, который будет выдавать склонность клиента к положительному или отрицательному отклику на предложение банка. Предполагается, что, получив такие оценки для некоторого множества клиентов, банк обратится с предложением только к тем, от кого ожидается положительный отклик."
   ],
   "attachments": {},
   "metadata": {
    "datalore": {
     "node_id": "BFpMdm65hqPYei3HmL0CfM",
     "type": "MD",
     "hide_input_from_viewers": false,
     "hide_output_from_viewers": false,
     "report_properties": {
      "rowId": "zCgxy7r6RyVsAf2uXmJGYd"
     }
    }
   }
  },
  {
   "cell_type": "markdown",
   "source": [
    "Для решения этой задачи загрузите файлы из базы в Postgres.\n",
    "Эта БД хранит информацию о клиентах банка и их персональные данные, такие как пол, количество детей и другие.\n",
    "\n",
    "Описание таблиц с данными представлено ниже."
   ],
   "attachments": {},
   "metadata": {
    "datalore": {
     "node_id": "ryAPlmq3N6L3y0SxvD0yEb",
     "type": "MD",
     "hide_input_from_viewers": false,
     "hide_output_from_viewers": false,
     "report_properties": {
      "rowId": "W3iXLgV3vzJ5yUDi4KM6vD"
     }
    }
   }
  },
  {
   "cell_type": "markdown",
   "source": [
    "**D_work**\n",
    "\n",
    "Описание статусов относительно работы:\n",
    "- ID — идентификатор социального статуса клиента относительно работы;\n",
    "- COMMENT — расшифровка статуса.\n",
    "\n",
    "\n",
    "**D_pens**\n",
    "\n",
    "Описание статусов относительно пенсии:\n",
    "- ID — идентификатор социального статуса;\n",
    "- COMMENT — расшифровка статуса.\n",
    "\n",
    "\n",
    "**D_clients**\n",
    "\n",
    "Описание данных клиентов:\n",
    "- ID — идентификатор записи;\n",
    "- AGE\t— возраст клиента;\n",
    "- GENDER — пол клиента (1 — мужчина, 0 — женщина);\n",
    "- EDUCATION — образование;\n",
    "- MARITAL_STATUS — семейное положение;\n",
    "- CHILD_TOTAL\t— количество детей клиента;\n",
    "- DEPENDANTS — количество иждивенцев клиента;\n",
    "- SOCSTATUS_WORK_FL\t— социальный статус клиента относительно работы (1 — работает, 0 — не работает);\n",
    "- SOCSTATUS_PENS_FL\t— социальный статус клиента относительно пенсии (1 — пенсионер, 0 — не пенсионер);\n",
    "- REG_ADDRESS_PROVINCE — область регистрации клиента;\n",
    "- FACT_ADDRESS_PROVINCE — область фактического пребывания клиента;\n",
    "- POSTAL_ADDRESS_PROVINCE — почтовый адрес области;\n",
    "- FL_PRESENCE_FL — наличие в собственности квартиры (1 — есть, 0 — нет);\n",
    "- OWN_AUTO — количество автомобилей в собственности.\n",
    "\n",
    "\n",
    "**D_agreement**\n",
    "\n",
    "Таблица с зафиксированными откликами клиентов на предложения банка:\n",
    "- AGREEMENT_RK — уникальный идентификатор объекта в выборке;\n",
    "- ID_CLIENT — идентификатор клиента;\n",
    "- TARGET — целевая переменная: отклик на маркетинговую кампанию (1 — отклик был зарегистрирован, 0 — отклика не было).\n",
    "    \n",
    "    \n",
    "**D_job**\n",
    "\n",
    "Описание информации о работе клиентов:\n",
    "- GEN_INDUSTRY — отрасль работы клиента;\n",
    "- GEN_TITLE — должность;\n",
    "- JOB_DIR — направление деятельности внутри компании;\n",
    "- WORK_TIME — время работы на текущем месте (в месяцах);\n",
    "- ID_CLIENT — идентификатор клиента.\n",
    "\n",
    "\n",
    "**D_salary**\n",
    "\n",
    "Описание информации о заработной плате клиентов:\n",
    "- ID_CLIENT — идентификатор клиента;\n",
    "- FAMILY_INCOME — семейный доход (несколько категорий);\n",
    "- PERSONAL_INCOME — личный доход клиента (в рублях).\n",
    "\n",
    "\n",
    "**D_last_credit**\n",
    "\n",
    "Информация о последнем займе клиента:\n",
    "- ID_CLIENT — идентификатор клиента;\n",
    "- CREDIT — сумма последнего кредита клиента (в рублях);\n",
    "- TERM — срок кредита;\n",
    "- FST_PAYMENT — первоначальный взнос (в рублях).\n",
    "\n",
    "\n",
    "**D_loan**\n",
    "\n",
    "Информация о кредитной истории клиента:\n",
    "- ID_CLIENT — идентификатор клиента;\n",
    "- ID_LOAN — идентификатор кредита.\n",
    "\n",
    "**D_close_loan**\n",
    "\n",
    "Информация о статусах кредита (ссуд):\n",
    "- ID_LOAN — идентификатор кредита;\n",
    "- CLOSED_FL — текущий статус кредита (1 — закрыт, 0 — не закрыт)."
   ],
   "attachments": {},
   "metadata": {
    "datalore": {
     "node_id": "LzW898a8TdMBr8Jurd1Az9",
     "type": "MD",
     "hide_input_from_viewers": false,
     "hide_output_from_viewers": false,
     "report_properties": {
      "rowId": "vsDJFNvRvCwjyidV8TOIdY"
     }
    }
   }
  },
  {
   "cell_type": "markdown",
   "source": [
    "Ниже представлен минимальный список колонок, которые должны находиться в итоговом датасете после склейки и агрегации данных. По своему усмотрению вы можете добавить дополнительные к этим колонки."
   ],
   "attachments": {},
   "metadata": {
    "datalore": {
     "node_id": "zvIFPnwZbGlnhNfK96zFR2",
     "type": "MD",
     "hide_input_from_viewers": false,
     "hide_output_from_viewers": false,
     "report_properties": {
      "rowId": "owPyq303wUwVeCxZkp5Pac"
     }
    }
   }
  },
  {
   "cell_type": "markdown",
   "source": [
    "    - AGREEMENT_RK — уникальный идентификатор объекта в выборке;\n",
    "    - TARGET — целевая переменная: отклик на маркетинговую кампанию (1 — отклик был зарегистрирован, 0 — отклика не было);\n",
    "    - AGE — возраст клиента;\n",
    "    - SOCSTATUS_WORK_FL — социальный статус клиента относительно работы (1 — работает, 0 — не работает);\n",
    "    - SOCSTATUS_PENS_FL — социальный статус клиента относительно пенсии (1 — пенсионер, 0 — не пенсионер);\n",
    "    - GENDER — пол клиента (1 — мужчина, 0 — женщина);\n",
    "    - CHILD_TOTAL — количество детей клиента;\n",
    "    - DEPENDANTS — количество иждивенцев клиента;\n",
    "    - PERSONAL_INCOME — личный доход клиента (в рублях);\n",
    "    - LOAN_NUM_TOTAL — количество ссуд клиента;\n",
    "    - LOAN_NUM_CLOSED — количество погашенных ссуд клиента."
   ],
   "attachments": {},
   "metadata": {
    "datalore": {
     "node_id": "z52E2XXGhe8iFzTsObFMmG",
     "type": "MD",
     "hide_input_from_viewers": false,
     "hide_output_from_viewers": false,
     "report_properties": {
      "rowId": "41Q7ZOsGlizjO4U8OtLRmF"
     }
    }
   }
  },
  {
   "cell_type": "markdown",
   "source": [
    "Будьте внимательны при сборке датасета: это реальные банковские данные, в которых могут наблюдаться дубли, некорректно заполненные значения или значения, противоречащие друг другу. Для получения качественной модели необходимо предварительно очистить датасет от такой информации."
   ],
   "attachments": {},
   "metadata": {
    "datalore": {
     "node_id": "aOIHUtMGh2k4SNEjISz4Zd",
     "type": "MD",
     "hide_input_from_viewers": false,
     "hide_output_from_viewers": false,
     "report_properties": {
      "rowId": "iWGDa4TSghB19AsrhcDlgg"
     }
    }
   }
  },
  {
   "cell_type": "markdown",
   "source": [
    "## Задание 1\n",
    "\n",
    "Соберите всю информацию о клиентах в одну таблицу, где одна строчка соответствует полной информации об одном клиенте."
   ],
   "attachments": {},
   "metadata": {
    "datalore": {
     "node_id": "utqP1vCQaXFSNdfmcMzxR6",
     "type": "MD",
     "hide_input_from_viewers": false,
     "hide_output_from_viewers": false,
     "report_properties": {
      "rowId": "W6iJQUVtjZIi5WcykwdHLx"
     }
    }
   }
  },
  {
   "cell_type": "markdown",
   "source": [
    "## Задание 2\n",
    "\n",
    "При помощи инструмента Streamlit проведите разведочный анализ данных. В него может входить:\n",
    "\n",
    "* построение графиков распределений признаков\n",
    "* построение матрицы корреляций\n",
    "* построение графиков зависимостей целевой переменной и признаков\n",
    "* вычисление числовых характеристик распределения числовых столбцов (среднее, min, max, медиана и так далее)\n",
    "* любые другие ваши идеи приветствуются!\n",
    "\n",
    "[Пример Streamlit-приложения](https://rateyourflight.streamlit.app) с разведочным анализом, прогнозом модели и оценкой ее результатов."
   ],
   "attachments": {},
   "metadata": {
    "datalore": {
     "node_id": "8PFIbiIrxB1aHCX3Jbe916",
     "type": "MD",
     "hide_input_from_viewers": false,
     "hide_output_from_viewers": false,
     "report_properties": {
      "rowId": "uPqN8pzE1rNKqr7r8s4VRa"
     }
    }
   }
  },
  {
   "cell_type": "code",
   "source": [
    "import pandas as pd\n",
    "import numpy as np\n",
    "import matplotlib.pyplot as plt\n",
    "import random\n",
    "import seaborn as sns"
   ],
   "execution_count": 1,
   "outputs": [],
   "metadata": {
    "datalore": {
     "node_id": "EoL9BXknbJhFAuQW0P8jLh",
     "type": "CODE",
     "hide_input_from_viewers": false,
     "hide_output_from_viewers": false,
     "report_properties": {
      "rowId": "Kz5zgED8LpezQ6QA3PUHD8"
     }
    },
    "ExecuteTime": {
     "end_time": "2023-12-12T21:52:14.712629300Z",
     "start_time": "2023-12-12T21:52:14.708119900Z"
    }
   }
  },
  {
   "cell_type": "code",
   "source": [
    "df_clients = pd.read_csv('https://raw.githubusercontent.com/aiedu-courses/stepik_linear_models/main/datasets/D_clients.csv')\n",
    "df_close_loan = pd.read_csv('https://raw.githubusercontent.com/aiedu-courses/stepik_linear_models/main/datasets/D_close_loan.csv')\n",
    "df_job = pd.read_csv('https://raw.githubusercontent.com/aiedu-courses/stepik_linear_models/main/datasets/D_job.csv')\n",
    "df_last_credit = pd.read_csv('https://raw.githubusercontent.com/aiedu-courses/stepik_linear_models/main/datasets/D_last_credit.csv')\n",
    "df_loan = pd.read_csv('https://raw.githubusercontent.com/aiedu-courses/stepik_linear_models/main/datasets/D_loan.csv')\n",
    "df_pens = pd.read_csv('https://raw.githubusercontent.com/aiedu-courses/stepik_linear_models/main/datasets/D_pens.csv')\n",
    "df_salary = pd.read_csv('https://raw.githubusercontent.com/aiedu-courses/stepik_linear_models/main/datasets/D_salary.csv')\n",
    "df_work = pd.read_csv('https://raw.githubusercontent.com/aiedu-courses/stepik_linear_models/main/datasets/D_work.csv')\n",
    "df_target = pd.read_csv('https://raw.githubusercontent.com/aiedu-courses/stepik_linear_models/main/datasets/D_target.csv')"
   ],
   "execution_count": 2,
   "outputs": [],
   "metadata": {
    "datalore": {
     "node_id": "Vg4Zeocv8bSJsjLgybjTUG",
     "type": "CODE",
     "hide_input_from_viewers": false,
     "hide_output_from_viewers": false,
     "report_properties": {
      "rowId": "F8ScFQSxHCJZvp7HB3aULg"
     }
    },
    "ExecuteTime": {
     "end_time": "2023-12-12T21:52:21.354636500Z",
     "start_time": "2023-12-12T21:52:17.019038800Z"
    }
   }
  },
  {
   "cell_type": "code",
   "source": [
    "df_clients = df_clients.rename(columns={\"ID\": \"ID_CLIENT\"})"
   ],
   "execution_count": 3,
   "outputs": [],
   "metadata": {
    "datalore": {
     "node_id": "DpYs1mlnNjSklu843VuWyq",
     "type": "CODE",
     "hide_input_from_viewers": true,
     "hide_output_from_viewers": true
    },
    "ExecuteTime": {
     "end_time": "2023-12-12T21:52:22.524411900Z",
     "start_time": "2023-12-12T21:52:22.505059800Z"
    }
   }
  },
  {
   "cell_type": "code",
   "source": [
    "df_loan"
   ],
   "execution_count": 4,
   "outputs": [
    {
     "data": {
      "text/plain": "          ID_LOAN  ID_CLIENT\n0      1753790658  106804370\n1      1753790659  106804371\n2      1753790660  106804372\n3      1753790661  106804372\n4      1753790662  106804373\n...           ...        ...\n21121  1753811779  106819588\n21122  1753811780  106819589\n21123  1753811781  106819590\n21124  1753811782  106819591\n21125  1753811783  106819592\n\n[21126 rows x 2 columns]",
      "text/html": "<div>\n<style scoped>\n    .dataframe tbody tr th:only-of-type {\n        vertical-align: middle;\n    }\n\n    .dataframe tbody tr th {\n        vertical-align: top;\n    }\n\n    .dataframe thead th {\n        text-align: right;\n    }\n</style>\n<table border=\"1\" class=\"dataframe\">\n  <thead>\n    <tr style=\"text-align: right;\">\n      <th></th>\n      <th>ID_LOAN</th>\n      <th>ID_CLIENT</th>\n    </tr>\n  </thead>\n  <tbody>\n    <tr>\n      <th>0</th>\n      <td>1753790658</td>\n      <td>106804370</td>\n    </tr>\n    <tr>\n      <th>1</th>\n      <td>1753790659</td>\n      <td>106804371</td>\n    </tr>\n    <tr>\n      <th>2</th>\n      <td>1753790660</td>\n      <td>106804372</td>\n    </tr>\n    <tr>\n      <th>3</th>\n      <td>1753790661</td>\n      <td>106804372</td>\n    </tr>\n    <tr>\n      <th>4</th>\n      <td>1753790662</td>\n      <td>106804373</td>\n    </tr>\n    <tr>\n      <th>...</th>\n      <td>...</td>\n      <td>...</td>\n    </tr>\n    <tr>\n      <th>21121</th>\n      <td>1753811779</td>\n      <td>106819588</td>\n    </tr>\n    <tr>\n      <th>21122</th>\n      <td>1753811780</td>\n      <td>106819589</td>\n    </tr>\n    <tr>\n      <th>21123</th>\n      <td>1753811781</td>\n      <td>106819590</td>\n    </tr>\n    <tr>\n      <th>21124</th>\n      <td>1753811782</td>\n      <td>106819591</td>\n    </tr>\n    <tr>\n      <th>21125</th>\n      <td>1753811783</td>\n      <td>106819592</td>\n    </tr>\n  </tbody>\n</table>\n<p>21126 rows × 2 columns</p>\n</div>"
     },
     "execution_count": 4,
     "metadata": {},
     "output_type": "execute_result"
    }
   ],
   "metadata": {
    "datalore": {
     "node_id": "iQ7xfZVLhTJoezuGBvO813",
     "type": "CODE",
     "hide_input_from_viewers": false,
     "hide_output_from_viewers": false,
     "report_properties": {
      "rowId": "Qw7EIrR7AWQD4X6ZYJr1ov"
     }
    },
    "ExecuteTime": {
     "end_time": "2023-12-12T21:52:23.212231800Z",
     "start_time": "2023-12-12T21:52:23.184055900Z"
    }
   }
  },
  {
   "cell_type": "code",
   "source": [
    "df_close_loan"
   ],
   "execution_count": 5,
   "outputs": [
    {
     "data": {
      "text/plain": "          ID_LOAN  CLOSED_FL\n0      1753790658          1\n1      1753790659          1\n2      1753790660          1\n3      1753790661          0\n4      1753790662          1\n...           ...        ...\n21121  1753811779          1\n21122  1753811780          0\n21123  1753811781          0\n21124  1753811782          0\n21125  1753811783          0\n\n[21126 rows x 2 columns]",
      "text/html": "<div>\n<style scoped>\n    .dataframe tbody tr th:only-of-type {\n        vertical-align: middle;\n    }\n\n    .dataframe tbody tr th {\n        vertical-align: top;\n    }\n\n    .dataframe thead th {\n        text-align: right;\n    }\n</style>\n<table border=\"1\" class=\"dataframe\">\n  <thead>\n    <tr style=\"text-align: right;\">\n      <th></th>\n      <th>ID_LOAN</th>\n      <th>CLOSED_FL</th>\n    </tr>\n  </thead>\n  <tbody>\n    <tr>\n      <th>0</th>\n      <td>1753790658</td>\n      <td>1</td>\n    </tr>\n    <tr>\n      <th>1</th>\n      <td>1753790659</td>\n      <td>1</td>\n    </tr>\n    <tr>\n      <th>2</th>\n      <td>1753790660</td>\n      <td>1</td>\n    </tr>\n    <tr>\n      <th>3</th>\n      <td>1753790661</td>\n      <td>0</td>\n    </tr>\n    <tr>\n      <th>4</th>\n      <td>1753790662</td>\n      <td>1</td>\n    </tr>\n    <tr>\n      <th>...</th>\n      <td>...</td>\n      <td>...</td>\n    </tr>\n    <tr>\n      <th>21121</th>\n      <td>1753811779</td>\n      <td>1</td>\n    </tr>\n    <tr>\n      <th>21122</th>\n      <td>1753811780</td>\n      <td>0</td>\n    </tr>\n    <tr>\n      <th>21123</th>\n      <td>1753811781</td>\n      <td>0</td>\n    </tr>\n    <tr>\n      <th>21124</th>\n      <td>1753811782</td>\n      <td>0</td>\n    </tr>\n    <tr>\n      <th>21125</th>\n      <td>1753811783</td>\n      <td>0</td>\n    </tr>\n  </tbody>\n</table>\n<p>21126 rows × 2 columns</p>\n</div>"
     },
     "execution_count": 5,
     "metadata": {},
     "output_type": "execute_result"
    }
   ],
   "metadata": {
    "datalore": {
     "node_id": "f3yJkHe7Hz4sVKSEVbZmYu",
     "type": "CODE",
     "hide_input_from_viewers": false,
     "hide_output_from_viewers": false,
     "report_properties": {
      "rowId": "dsIuOBMyzQJhIti0seIL1w"
     }
    },
    "ExecuteTime": {
     "end_time": "2023-12-12T21:52:24.052142400Z",
     "start_time": "2023-12-12T21:52:24.031898400Z"
    }
   }
  },
  {
   "cell_type": "code",
   "source": [
    "df_loan_all = df_loan.merge(df_close_loan, on=\"ID_LOAN\")"
   ],
   "execution_count": 6,
   "outputs": [],
   "metadata": {
    "datalore": {
     "node_id": "eLGJyiLhWLPIwI7hmELDWM",
     "type": "CODE",
     "hide_input_from_viewers": true,
     "hide_output_from_viewers": true
    },
    "ExecuteTime": {
     "end_time": "2023-12-12T21:52:24.773888300Z",
     "start_time": "2023-12-12T21:52:24.753989Z"
    }
   }
  },
  {
   "cell_type": "markdown",
   "source": [
    "### LOAN_NUM_TOTAL"
   ],
   "attachments": {},
   "metadata": {
    "datalore": {
     "node_id": "BH7IuKcTUEttRpoCCOBza2",
     "type": "MD",
     "hide_input_from_viewers": true,
     "hide_output_from_viewers": true
    }
   }
  },
  {
   "cell_type": "code",
   "source": [
    "df_num_total = df_loan_all.groupby('ID_CLIENT')['ID_LOAN'].count().to_frame()\n",
    "df_num_total = df_num_total.rename(columns={'ID_LOAN':'LOAN_NUM_TOTAL'})"
   ],
   "execution_count": 7,
   "outputs": [],
   "metadata": {
    "datalore": {
     "node_id": "9meh59Bb3bZa5zYaj8ZMna",
     "type": "CODE",
     "hide_input_from_viewers": true,
     "hide_output_from_viewers": true
    },
    "ExecuteTime": {
     "end_time": "2023-12-12T21:52:25.971398900Z",
     "start_time": "2023-12-12T21:52:25.953076700Z"
    }
   }
  },
  {
   "cell_type": "markdown",
   "source": [
    "### LOAN_NUM_CLOSED"
   ],
   "attachments": {},
   "metadata": {
    "datalore": {
     "node_id": "kIzyoeZ6iqdHMWAkephTkL",
     "type": "MD",
     "hide_input_from_viewers": true,
     "hide_output_from_viewers": true
    }
   }
  },
  {
   "cell_type": "code",
   "source": [
    "df_num_closed = df_loan_all.groupby('ID_CLIENT').agg({'CLOSED_FL':'sum'})\n",
    "df_num_closed.rename(columns={'CLOSED_FL':'LOAN_NUM_CLOSED'}, inplace=True) "
   ],
   "execution_count": 8,
   "outputs": [],
   "metadata": {
    "datalore": {
     "node_id": "zejiDA12z9S8qjRGYrLFar",
     "type": "CODE",
     "hide_input_from_viewers": true,
     "hide_output_from_viewers": true
    },
    "ExecuteTime": {
     "end_time": "2023-12-12T21:52:26.596556300Z",
     "start_time": "2023-12-12T21:52:26.576052200Z"
    }
   }
  },
  {
   "cell_type": "markdown",
   "source": [
    "### SALARY"
   ],
   "attachments": {},
   "metadata": {
    "datalore": {
     "node_id": "exrHXbYCDxCnPa0ZNhvMDP",
     "type": "MD",
     "hide_input_from_viewers": true,
     "hide_output_from_viewers": true
    }
   }
  },
  {
   "cell_type": "code",
   "source": [
    "df_salary_new = df_salary.drop_duplicates()"
   ],
   "execution_count": 9,
   "outputs": [],
   "metadata": {
    "datalore": {
     "node_id": "fxfFNaWLA6zuUjCoFEbbA8",
     "type": "CODE",
     "hide_input_from_viewers": true,
     "hide_output_from_viewers": true
    },
    "ExecuteTime": {
     "end_time": "2023-12-12T21:52:27.232146800Z",
     "start_time": "2023-12-12T21:52:27.210929200Z"
    }
   }
  },
  {
   "cell_type": "code",
   "source": [
    "df_salary_loan = df_salary_new[['PERSONAL_INCOME', 'ID_CLIENT']].merge(df_num_total.reset_index(), on='ID_CLIENT')\n",
    "df_salary_loan = df_salary_loan.merge(df_num_closed.reset_index(), on='ID_CLIENT')\n",
    "df_salary_loan"
   ],
   "execution_count": 10,
   "outputs": [
    {
     "data": {
      "text/plain": "       PERSONAL_INCOME  ID_CLIENT  LOAN_NUM_TOTAL  LOAN_NUM_CLOSED\n0              20000.0  106809321               1                0\n1              14000.0  106815561               1                1\n2              15000.0  106811521               1                0\n3              20000.0  106811252               1                1\n4              25000.0  106808620               1                0\n...                ...        ...             ...              ...\n15218          15000.0  106812538               1                1\n15219          12000.0  106814158               2                2\n15220          14000.0  106805134               1                0\n15221           7000.0  106812867               1                0\n15222           5200.0  106808024               1                0\n\n[15223 rows x 4 columns]",
      "text/html": "<div>\n<style scoped>\n    .dataframe tbody tr th:only-of-type {\n        vertical-align: middle;\n    }\n\n    .dataframe tbody tr th {\n        vertical-align: top;\n    }\n\n    .dataframe thead th {\n        text-align: right;\n    }\n</style>\n<table border=\"1\" class=\"dataframe\">\n  <thead>\n    <tr style=\"text-align: right;\">\n      <th></th>\n      <th>PERSONAL_INCOME</th>\n      <th>ID_CLIENT</th>\n      <th>LOAN_NUM_TOTAL</th>\n      <th>LOAN_NUM_CLOSED</th>\n    </tr>\n  </thead>\n  <tbody>\n    <tr>\n      <th>0</th>\n      <td>20000.0</td>\n      <td>106809321</td>\n      <td>1</td>\n      <td>0</td>\n    </tr>\n    <tr>\n      <th>1</th>\n      <td>14000.0</td>\n      <td>106815561</td>\n      <td>1</td>\n      <td>1</td>\n    </tr>\n    <tr>\n      <th>2</th>\n      <td>15000.0</td>\n      <td>106811521</td>\n      <td>1</td>\n      <td>0</td>\n    </tr>\n    <tr>\n      <th>3</th>\n      <td>20000.0</td>\n      <td>106811252</td>\n      <td>1</td>\n      <td>1</td>\n    </tr>\n    <tr>\n      <th>4</th>\n      <td>25000.0</td>\n      <td>106808620</td>\n      <td>1</td>\n      <td>0</td>\n    </tr>\n    <tr>\n      <th>...</th>\n      <td>...</td>\n      <td>...</td>\n      <td>...</td>\n      <td>...</td>\n    </tr>\n    <tr>\n      <th>15218</th>\n      <td>15000.0</td>\n      <td>106812538</td>\n      <td>1</td>\n      <td>1</td>\n    </tr>\n    <tr>\n      <th>15219</th>\n      <td>12000.0</td>\n      <td>106814158</td>\n      <td>2</td>\n      <td>2</td>\n    </tr>\n    <tr>\n      <th>15220</th>\n      <td>14000.0</td>\n      <td>106805134</td>\n      <td>1</td>\n      <td>0</td>\n    </tr>\n    <tr>\n      <th>15221</th>\n      <td>7000.0</td>\n      <td>106812867</td>\n      <td>1</td>\n      <td>0</td>\n    </tr>\n    <tr>\n      <th>15222</th>\n      <td>5200.0</td>\n      <td>106808024</td>\n      <td>1</td>\n      <td>0</td>\n    </tr>\n  </tbody>\n</table>\n<p>15223 rows × 4 columns</p>\n</div>"
     },
     "execution_count": 10,
     "metadata": {},
     "output_type": "execute_result"
    }
   ],
   "metadata": {
    "datalore": {
     "node_id": "KipX8Jw4TNll9VzejapOZu",
     "type": "CODE",
     "hide_input_from_viewers": true,
     "hide_output_from_viewers": true
    },
    "ExecuteTime": {
     "end_time": "2023-12-12T21:52:27.592521300Z",
     "start_time": "2023-12-12T21:52:27.576081100Z"
    }
   }
  },
  {
   "cell_type": "markdown",
   "source": [
    "### DEPENDANTS + CHILD_TOTAL"
   ],
   "attachments": {},
   "metadata": {
    "datalore": {
     "node_id": "iT4DjHvYSHpXi4lr8BUMHw",
     "type": "MD",
     "hide_input_from_viewers": true,
     "hide_output_from_viewers": true
    }
   }
  },
  {
   "cell_type": "code",
   "source": [
    "df_dependants = df_clients[[\"ID_CLIENT\", \"DEPENDANTS\", \"CHILD_TOTAL\"]].merge(df_salary_loan, on='ID_CLIENT')\n",
    "df_dependants"
   ],
   "execution_count": 11,
   "outputs": [
    {
     "data": {
      "text/plain": "       ID_CLIENT  DEPENDANTS  CHILD_TOTAL  PERSONAL_INCOME  LOAN_NUM_TOTAL  \\\n0      106805103           0            1          25000.0               1   \n1      106809308           1            1          10000.0               1   \n2      106805867           0            2          30000.0               1   \n3      106808779           0            0          25000.0               1   \n4      106814289           1            1          15000.0               2   \n...          ...         ...          ...              ...             ...   \n15218  106814680           1            1           8000.0               2   \n15219  106812464           0            0          12000.0               1   \n15220  106809255           0            0           9000.0               1   \n15221  106814593           0            0          12000.0               1   \n15222  106813640           0            0          10500.0               1   \n\n       LOAN_NUM_CLOSED  \n0                    0  \n1                    0  \n2                    1  \n3                    0  \n4                    2  \n...                ...  \n15218                2  \n15219                0  \n15220                0  \n15221                1  \n15222                1  \n\n[15223 rows x 6 columns]",
      "text/html": "<div>\n<style scoped>\n    .dataframe tbody tr th:only-of-type {\n        vertical-align: middle;\n    }\n\n    .dataframe tbody tr th {\n        vertical-align: top;\n    }\n\n    .dataframe thead th {\n        text-align: right;\n    }\n</style>\n<table border=\"1\" class=\"dataframe\">\n  <thead>\n    <tr style=\"text-align: right;\">\n      <th></th>\n      <th>ID_CLIENT</th>\n      <th>DEPENDANTS</th>\n      <th>CHILD_TOTAL</th>\n      <th>PERSONAL_INCOME</th>\n      <th>LOAN_NUM_TOTAL</th>\n      <th>LOAN_NUM_CLOSED</th>\n    </tr>\n  </thead>\n  <tbody>\n    <tr>\n      <th>0</th>\n      <td>106805103</td>\n      <td>0</td>\n      <td>1</td>\n      <td>25000.0</td>\n      <td>1</td>\n      <td>0</td>\n    </tr>\n    <tr>\n      <th>1</th>\n      <td>106809308</td>\n      <td>1</td>\n      <td>1</td>\n      <td>10000.0</td>\n      <td>1</td>\n      <td>0</td>\n    </tr>\n    <tr>\n      <th>2</th>\n      <td>106805867</td>\n      <td>0</td>\n      <td>2</td>\n      <td>30000.0</td>\n      <td>1</td>\n      <td>1</td>\n    </tr>\n    <tr>\n      <th>3</th>\n      <td>106808779</td>\n      <td>0</td>\n      <td>0</td>\n      <td>25000.0</td>\n      <td>1</td>\n      <td>0</td>\n    </tr>\n    <tr>\n      <th>4</th>\n      <td>106814289</td>\n      <td>1</td>\n      <td>1</td>\n      <td>15000.0</td>\n      <td>2</td>\n      <td>2</td>\n    </tr>\n    <tr>\n      <th>...</th>\n      <td>...</td>\n      <td>...</td>\n      <td>...</td>\n      <td>...</td>\n      <td>...</td>\n      <td>...</td>\n    </tr>\n    <tr>\n      <th>15218</th>\n      <td>106814680</td>\n      <td>1</td>\n      <td>1</td>\n      <td>8000.0</td>\n      <td>2</td>\n      <td>2</td>\n    </tr>\n    <tr>\n      <th>15219</th>\n      <td>106812464</td>\n      <td>0</td>\n      <td>0</td>\n      <td>12000.0</td>\n      <td>1</td>\n      <td>0</td>\n    </tr>\n    <tr>\n      <th>15220</th>\n      <td>106809255</td>\n      <td>0</td>\n      <td>0</td>\n      <td>9000.0</td>\n      <td>1</td>\n      <td>0</td>\n    </tr>\n    <tr>\n      <th>15221</th>\n      <td>106814593</td>\n      <td>0</td>\n      <td>0</td>\n      <td>12000.0</td>\n      <td>1</td>\n      <td>1</td>\n    </tr>\n    <tr>\n      <th>15222</th>\n      <td>106813640</td>\n      <td>0</td>\n      <td>0</td>\n      <td>10500.0</td>\n      <td>1</td>\n      <td>1</td>\n    </tr>\n  </tbody>\n</table>\n<p>15223 rows × 6 columns</p>\n</div>"
     },
     "execution_count": 11,
     "metadata": {},
     "output_type": "execute_result"
    }
   ],
   "metadata": {
    "datalore": {
     "node_id": "zWvHZF1y0zvqWEeQXJ5kA0",
     "type": "CODE",
     "hide_input_from_viewers": true,
     "hide_output_from_viewers": true
    },
    "ExecuteTime": {
     "end_time": "2023-12-12T21:52:28.585137Z",
     "start_time": "2023-12-12T21:52:28.567006100Z"
    }
   }
  },
  {
   "cell_type": "markdown",
   "source": [
    "### GENDER"
   ],
   "attachments": {},
   "metadata": {
    "datalore": {
     "node_id": "x4VvNaZY4PhyoV6oiLPQcz",
     "type": "MD",
     "hide_input_from_viewers": false,
     "hide_output_from_viewers": false,
     "report_properties": {
      "rowId": "O9FYl1HBnmDRnx9e28vbrT"
     }
    }
   }
  },
  {
   "cell_type": "code",
   "source": [
    "df_gender = df_dependants.merge(df_clients[[\"GENDER\", \"ID_CLIENT\"]], on='ID_CLIENT')\n",
    "df_gender"
   ],
   "execution_count": 12,
   "outputs": [
    {
     "data": {
      "text/plain": "       ID_CLIENT  DEPENDANTS  CHILD_TOTAL  PERSONAL_INCOME  LOAN_NUM_TOTAL  \\\n0      106805103           0            1          25000.0               1   \n1      106809308           1            1          10000.0               1   \n2      106805867           0            2          30000.0               1   \n3      106808779           0            0          25000.0               1   \n4      106814289           1            1          15000.0               2   \n...          ...         ...          ...              ...             ...   \n15218  106814680           1            1           8000.0               2   \n15219  106812464           0            0          12000.0               1   \n15220  106809255           0            0           9000.0               1   \n15221  106814593           0            0          12000.0               1   \n15222  106813640           0            0          10500.0               1   \n\n       LOAN_NUM_CLOSED  GENDER  \n0                    0       1  \n1                    0       1  \n2                    1       0  \n3                    0       1  \n4                    2       0  \n...                ...     ...  \n15218                2       1  \n15219                0       0  \n15220                0       1  \n15221                1       0  \n15222                1       1  \n\n[15223 rows x 7 columns]",
      "text/html": "<div>\n<style scoped>\n    .dataframe tbody tr th:only-of-type {\n        vertical-align: middle;\n    }\n\n    .dataframe tbody tr th {\n        vertical-align: top;\n    }\n\n    .dataframe thead th {\n        text-align: right;\n    }\n</style>\n<table border=\"1\" class=\"dataframe\">\n  <thead>\n    <tr style=\"text-align: right;\">\n      <th></th>\n      <th>ID_CLIENT</th>\n      <th>DEPENDANTS</th>\n      <th>CHILD_TOTAL</th>\n      <th>PERSONAL_INCOME</th>\n      <th>LOAN_NUM_TOTAL</th>\n      <th>LOAN_NUM_CLOSED</th>\n      <th>GENDER</th>\n    </tr>\n  </thead>\n  <tbody>\n    <tr>\n      <th>0</th>\n      <td>106805103</td>\n      <td>0</td>\n      <td>1</td>\n      <td>25000.0</td>\n      <td>1</td>\n      <td>0</td>\n      <td>1</td>\n    </tr>\n    <tr>\n      <th>1</th>\n      <td>106809308</td>\n      <td>1</td>\n      <td>1</td>\n      <td>10000.0</td>\n      <td>1</td>\n      <td>0</td>\n      <td>1</td>\n    </tr>\n    <tr>\n      <th>2</th>\n      <td>106805867</td>\n      <td>0</td>\n      <td>2</td>\n      <td>30000.0</td>\n      <td>1</td>\n      <td>1</td>\n      <td>0</td>\n    </tr>\n    <tr>\n      <th>3</th>\n      <td>106808779</td>\n      <td>0</td>\n      <td>0</td>\n      <td>25000.0</td>\n      <td>1</td>\n      <td>0</td>\n      <td>1</td>\n    </tr>\n    <tr>\n      <th>4</th>\n      <td>106814289</td>\n      <td>1</td>\n      <td>1</td>\n      <td>15000.0</td>\n      <td>2</td>\n      <td>2</td>\n      <td>0</td>\n    </tr>\n    <tr>\n      <th>...</th>\n      <td>...</td>\n      <td>...</td>\n      <td>...</td>\n      <td>...</td>\n      <td>...</td>\n      <td>...</td>\n      <td>...</td>\n    </tr>\n    <tr>\n      <th>15218</th>\n      <td>106814680</td>\n      <td>1</td>\n      <td>1</td>\n      <td>8000.0</td>\n      <td>2</td>\n      <td>2</td>\n      <td>1</td>\n    </tr>\n    <tr>\n      <th>15219</th>\n      <td>106812464</td>\n      <td>0</td>\n      <td>0</td>\n      <td>12000.0</td>\n      <td>1</td>\n      <td>0</td>\n      <td>0</td>\n    </tr>\n    <tr>\n      <th>15220</th>\n      <td>106809255</td>\n      <td>0</td>\n      <td>0</td>\n      <td>9000.0</td>\n      <td>1</td>\n      <td>0</td>\n      <td>1</td>\n    </tr>\n    <tr>\n      <th>15221</th>\n      <td>106814593</td>\n      <td>0</td>\n      <td>0</td>\n      <td>12000.0</td>\n      <td>1</td>\n      <td>1</td>\n      <td>0</td>\n    </tr>\n    <tr>\n      <th>15222</th>\n      <td>106813640</td>\n      <td>0</td>\n      <td>0</td>\n      <td>10500.0</td>\n      <td>1</td>\n      <td>1</td>\n      <td>1</td>\n    </tr>\n  </tbody>\n</table>\n<p>15223 rows × 7 columns</p>\n</div>"
     },
     "execution_count": 12,
     "metadata": {},
     "output_type": "execute_result"
    }
   ],
   "metadata": {
    "datalore": {
     "node_id": "4XZSOrCdGOwTgYqXTFEsQ3",
     "type": "CODE",
     "hide_input_from_viewers": false,
     "hide_output_from_viewers": false,
     "report_properties": {
      "rowId": "3BjjZfNkwPgZQRgO8ODWqE"
     }
    },
    "ExecuteTime": {
     "end_time": "2023-12-12T21:52:29.237994600Z",
     "start_time": "2023-12-12T21:52:29.221431800Z"
    }
   }
  },
  {
   "cell_type": "markdown",
   "source": [
    "### SOCSTATUSES"
   ],
   "attachments": {},
   "metadata": {
    "datalore": {
     "node_id": "5XL12vJbvfxYvVlIDvJKsG",
     "type": "MD",
     "hide_input_from_viewers": true,
     "hide_output_from_viewers": true
    }
   }
  },
  {
   "cell_type": "code",
   "source": [
    "df_socstatuses = df_gender.merge(df_clients[[\"SOCSTATUS_WORK_FL\", \"SOCSTATUS_PENS_FL\", \"ID_CLIENT\"]], on='ID_CLIENT')\n",
    "df_socstatuses"
   ],
   "execution_count": 13,
   "outputs": [
    {
     "data": {
      "text/plain": "       ID_CLIENT  DEPENDANTS  CHILD_TOTAL  PERSONAL_INCOME  LOAN_NUM_TOTAL  \\\n0      106805103           0            1          25000.0               1   \n1      106809308           1            1          10000.0               1   \n2      106805867           0            2          30000.0               1   \n3      106808779           0            0          25000.0               1   \n4      106814289           1            1          15000.0               2   \n...          ...         ...          ...              ...             ...   \n15218  106814680           1            1           8000.0               2   \n15219  106812464           0            0          12000.0               1   \n15220  106809255           0            0           9000.0               1   \n15221  106814593           0            0          12000.0               1   \n15222  106813640           0            0          10500.0               1   \n\n       LOAN_NUM_CLOSED  GENDER  SOCSTATUS_WORK_FL  SOCSTATUS_PENS_FL  \n0                    0       1                  1                  0  \n1                    0       1                  1                  0  \n2                    1       0                  1                  1  \n3                    0       1                  1                  0  \n4                    2       0                  1                  0  \n...                ...     ...                ...                ...  \n15218                2       1                  1                  0  \n15219                0       0                  1                  0  \n15220                0       1                  1                  0  \n15221                1       0                  1                  0  \n15222                1       1                  1                  0  \n\n[15223 rows x 9 columns]",
      "text/html": "<div>\n<style scoped>\n    .dataframe tbody tr th:only-of-type {\n        vertical-align: middle;\n    }\n\n    .dataframe tbody tr th {\n        vertical-align: top;\n    }\n\n    .dataframe thead th {\n        text-align: right;\n    }\n</style>\n<table border=\"1\" class=\"dataframe\">\n  <thead>\n    <tr style=\"text-align: right;\">\n      <th></th>\n      <th>ID_CLIENT</th>\n      <th>DEPENDANTS</th>\n      <th>CHILD_TOTAL</th>\n      <th>PERSONAL_INCOME</th>\n      <th>LOAN_NUM_TOTAL</th>\n      <th>LOAN_NUM_CLOSED</th>\n      <th>GENDER</th>\n      <th>SOCSTATUS_WORK_FL</th>\n      <th>SOCSTATUS_PENS_FL</th>\n    </tr>\n  </thead>\n  <tbody>\n    <tr>\n      <th>0</th>\n      <td>106805103</td>\n      <td>0</td>\n      <td>1</td>\n      <td>25000.0</td>\n      <td>1</td>\n      <td>0</td>\n      <td>1</td>\n      <td>1</td>\n      <td>0</td>\n    </tr>\n    <tr>\n      <th>1</th>\n      <td>106809308</td>\n      <td>1</td>\n      <td>1</td>\n      <td>10000.0</td>\n      <td>1</td>\n      <td>0</td>\n      <td>1</td>\n      <td>1</td>\n      <td>0</td>\n    </tr>\n    <tr>\n      <th>2</th>\n      <td>106805867</td>\n      <td>0</td>\n      <td>2</td>\n      <td>30000.0</td>\n      <td>1</td>\n      <td>1</td>\n      <td>0</td>\n      <td>1</td>\n      <td>1</td>\n    </tr>\n    <tr>\n      <th>3</th>\n      <td>106808779</td>\n      <td>0</td>\n      <td>0</td>\n      <td>25000.0</td>\n      <td>1</td>\n      <td>0</td>\n      <td>1</td>\n      <td>1</td>\n      <td>0</td>\n    </tr>\n    <tr>\n      <th>4</th>\n      <td>106814289</td>\n      <td>1</td>\n      <td>1</td>\n      <td>15000.0</td>\n      <td>2</td>\n      <td>2</td>\n      <td>0</td>\n      <td>1</td>\n      <td>0</td>\n    </tr>\n    <tr>\n      <th>...</th>\n      <td>...</td>\n      <td>...</td>\n      <td>...</td>\n      <td>...</td>\n      <td>...</td>\n      <td>...</td>\n      <td>...</td>\n      <td>...</td>\n      <td>...</td>\n    </tr>\n    <tr>\n      <th>15218</th>\n      <td>106814680</td>\n      <td>1</td>\n      <td>1</td>\n      <td>8000.0</td>\n      <td>2</td>\n      <td>2</td>\n      <td>1</td>\n      <td>1</td>\n      <td>0</td>\n    </tr>\n    <tr>\n      <th>15219</th>\n      <td>106812464</td>\n      <td>0</td>\n      <td>0</td>\n      <td>12000.0</td>\n      <td>1</td>\n      <td>0</td>\n      <td>0</td>\n      <td>1</td>\n      <td>0</td>\n    </tr>\n    <tr>\n      <th>15220</th>\n      <td>106809255</td>\n      <td>0</td>\n      <td>0</td>\n      <td>9000.0</td>\n      <td>1</td>\n      <td>0</td>\n      <td>1</td>\n      <td>1</td>\n      <td>0</td>\n    </tr>\n    <tr>\n      <th>15221</th>\n      <td>106814593</td>\n      <td>0</td>\n      <td>0</td>\n      <td>12000.0</td>\n      <td>1</td>\n      <td>1</td>\n      <td>0</td>\n      <td>1</td>\n      <td>0</td>\n    </tr>\n    <tr>\n      <th>15222</th>\n      <td>106813640</td>\n      <td>0</td>\n      <td>0</td>\n      <td>10500.0</td>\n      <td>1</td>\n      <td>1</td>\n      <td>1</td>\n      <td>1</td>\n      <td>0</td>\n    </tr>\n  </tbody>\n</table>\n<p>15223 rows × 9 columns</p>\n</div>"
     },
     "execution_count": 13,
     "metadata": {},
     "output_type": "execute_result"
    }
   ],
   "metadata": {
    "datalore": {
     "node_id": "2cuDYSEFWf5KE8MZmvIxYp",
     "type": "CODE",
     "hide_input_from_viewers": true,
     "hide_output_from_viewers": true
    },
    "ExecuteTime": {
     "end_time": "2023-12-12T21:52:29.845559600Z",
     "start_time": "2023-12-12T21:52:29.827205800Z"
    }
   }
  },
  {
   "cell_type": "markdown",
   "source": [
    "### AGE"
   ],
   "attachments": {},
   "metadata": {
    "datalore": {
     "node_id": "xjwEZW29POZkJDhBPXShBL",
     "type": "MD",
     "hide_input_from_viewers": true,
     "hide_output_from_viewers": true
    }
   }
  },
  {
   "cell_type": "code",
   "source": [
    "df_age = df_socstatuses.merge(df_clients[[\"AGE\", \"ID_CLIENT\"]], on='ID_CLIENT')\n",
    "df_age"
   ],
   "execution_count": 14,
   "outputs": [
    {
     "data": {
      "text/plain": "       ID_CLIENT  DEPENDANTS  CHILD_TOTAL  PERSONAL_INCOME  LOAN_NUM_TOTAL  \\\n0      106805103           0            1          25000.0               1   \n1      106809308           1            1          10000.0               1   \n2      106805867           0            2          30000.0               1   \n3      106808779           0            0          25000.0               1   \n4      106814289           1            1          15000.0               2   \n...          ...         ...          ...              ...             ...   \n15218  106814680           1            1           8000.0               2   \n15219  106812464           0            0          12000.0               1   \n15220  106809255           0            0           9000.0               1   \n15221  106814593           0            0          12000.0               1   \n15222  106813640           0            0          10500.0               1   \n\n       LOAN_NUM_CLOSED  GENDER  SOCSTATUS_WORK_FL  SOCSTATUS_PENS_FL  AGE  \n0                    0       1                  1                  0   42  \n1                    0       1                  1                  0   28  \n2                    1       0                  1                  1   64  \n3                    0       1                  1                  0   54  \n4                    2       0                  1                  0   26  \n...                ...     ...                ...                ...  ...  \n15218                2       1                  1                  0   26  \n15219                0       0                  1                  0   26  \n15220                0       1                  1                  0   30  \n15221                1       0                  1                  0   25  \n15222                1       1                  1                  0   26  \n\n[15223 rows x 10 columns]",
      "text/html": "<div>\n<style scoped>\n    .dataframe tbody tr th:only-of-type {\n        vertical-align: middle;\n    }\n\n    .dataframe tbody tr th {\n        vertical-align: top;\n    }\n\n    .dataframe thead th {\n        text-align: right;\n    }\n</style>\n<table border=\"1\" class=\"dataframe\">\n  <thead>\n    <tr style=\"text-align: right;\">\n      <th></th>\n      <th>ID_CLIENT</th>\n      <th>DEPENDANTS</th>\n      <th>CHILD_TOTAL</th>\n      <th>PERSONAL_INCOME</th>\n      <th>LOAN_NUM_TOTAL</th>\n      <th>LOAN_NUM_CLOSED</th>\n      <th>GENDER</th>\n      <th>SOCSTATUS_WORK_FL</th>\n      <th>SOCSTATUS_PENS_FL</th>\n      <th>AGE</th>\n    </tr>\n  </thead>\n  <tbody>\n    <tr>\n      <th>0</th>\n      <td>106805103</td>\n      <td>0</td>\n      <td>1</td>\n      <td>25000.0</td>\n      <td>1</td>\n      <td>0</td>\n      <td>1</td>\n      <td>1</td>\n      <td>0</td>\n      <td>42</td>\n    </tr>\n    <tr>\n      <th>1</th>\n      <td>106809308</td>\n      <td>1</td>\n      <td>1</td>\n      <td>10000.0</td>\n      <td>1</td>\n      <td>0</td>\n      <td>1</td>\n      <td>1</td>\n      <td>0</td>\n      <td>28</td>\n    </tr>\n    <tr>\n      <th>2</th>\n      <td>106805867</td>\n      <td>0</td>\n      <td>2</td>\n      <td>30000.0</td>\n      <td>1</td>\n      <td>1</td>\n      <td>0</td>\n      <td>1</td>\n      <td>1</td>\n      <td>64</td>\n    </tr>\n    <tr>\n      <th>3</th>\n      <td>106808779</td>\n      <td>0</td>\n      <td>0</td>\n      <td>25000.0</td>\n      <td>1</td>\n      <td>0</td>\n      <td>1</td>\n      <td>1</td>\n      <td>0</td>\n      <td>54</td>\n    </tr>\n    <tr>\n      <th>4</th>\n      <td>106814289</td>\n      <td>1</td>\n      <td>1</td>\n      <td>15000.0</td>\n      <td>2</td>\n      <td>2</td>\n      <td>0</td>\n      <td>1</td>\n      <td>0</td>\n      <td>26</td>\n    </tr>\n    <tr>\n      <th>...</th>\n      <td>...</td>\n      <td>...</td>\n      <td>...</td>\n      <td>...</td>\n      <td>...</td>\n      <td>...</td>\n      <td>...</td>\n      <td>...</td>\n      <td>...</td>\n      <td>...</td>\n    </tr>\n    <tr>\n      <th>15218</th>\n      <td>106814680</td>\n      <td>1</td>\n      <td>1</td>\n      <td>8000.0</td>\n      <td>2</td>\n      <td>2</td>\n      <td>1</td>\n      <td>1</td>\n      <td>0</td>\n      <td>26</td>\n    </tr>\n    <tr>\n      <th>15219</th>\n      <td>106812464</td>\n      <td>0</td>\n      <td>0</td>\n      <td>12000.0</td>\n      <td>1</td>\n      <td>0</td>\n      <td>0</td>\n      <td>1</td>\n      <td>0</td>\n      <td>26</td>\n    </tr>\n    <tr>\n      <th>15220</th>\n      <td>106809255</td>\n      <td>0</td>\n      <td>0</td>\n      <td>9000.0</td>\n      <td>1</td>\n      <td>0</td>\n      <td>1</td>\n      <td>1</td>\n      <td>0</td>\n      <td>30</td>\n    </tr>\n    <tr>\n      <th>15221</th>\n      <td>106814593</td>\n      <td>0</td>\n      <td>0</td>\n      <td>12000.0</td>\n      <td>1</td>\n      <td>1</td>\n      <td>0</td>\n      <td>1</td>\n      <td>0</td>\n      <td>25</td>\n    </tr>\n    <tr>\n      <th>15222</th>\n      <td>106813640</td>\n      <td>0</td>\n      <td>0</td>\n      <td>10500.0</td>\n      <td>1</td>\n      <td>1</td>\n      <td>1</td>\n      <td>1</td>\n      <td>0</td>\n      <td>26</td>\n    </tr>\n  </tbody>\n</table>\n<p>15223 rows × 10 columns</p>\n</div>"
     },
     "execution_count": 14,
     "metadata": {},
     "output_type": "execute_result"
    }
   ],
   "metadata": {
    "datalore": {
     "node_id": "tYeaOtnNOtIzWjp5TXPDeU",
     "type": "CODE",
     "hide_input_from_viewers": true,
     "hide_output_from_viewers": true
    },
    "ExecuteTime": {
     "end_time": "2023-12-12T21:52:30.688996800Z",
     "start_time": "2023-12-12T21:52:30.671041500Z"
    }
   }
  },
  {
   "cell_type": "markdown",
   "source": [
    "### TARGET and AGR_RK"
   ],
   "attachments": {},
   "metadata": {
    "datalore": {
     "node_id": "jcNMXUu1uOYsxAD2L3SvZh",
     "type": "MD",
     "hide_input_from_viewers": true,
     "hide_output_from_viewers": true
    }
   }
  },
  {
   "cell_type": "code",
   "source": [
    "df_final = df_age.merge(df_target[[\"AGREEMENT_RK\", \"TARGET\", \"ID_CLIENT\"]], on='ID_CLIENT')"
   ],
   "execution_count": 15,
   "outputs": [],
   "metadata": {
    "datalore": {
     "node_id": "vh6DQAElcup2fSCzUjFGCo",
     "type": "CODE",
     "hide_input_from_viewers": true,
     "hide_output_from_viewers": true
    },
    "ExecuteTime": {
     "end_time": "2023-12-12T21:52:31.877340700Z",
     "start_time": "2023-12-12T21:52:31.857132800Z"
    }
   }
  },
  {
   "cell_type": "markdown",
   "source": [
    "Проверим на null:"
   ],
   "metadata": {
    "collapsed": false
   }
  },
  {
   "cell_type": "code",
   "source": [
    "df_final.info()"
   ],
   "execution_count": 16,
   "outputs": [
    {
     "name": "stdout",
     "output_type": "stream",
     "text": [
      "<class 'pandas.core.frame.DataFrame'>\n",
      "RangeIndex: 15223 entries, 0 to 15222\n",
      "Data columns (total 12 columns):\n",
      " #   Column             Non-Null Count  Dtype  \n",
      "---  ------             --------------  -----  \n",
      " 0   ID_CLIENT          15223 non-null  int64  \n",
      " 1   DEPENDANTS         15223 non-null  int64  \n",
      " 2   CHILD_TOTAL        15223 non-null  int64  \n",
      " 3   PERSONAL_INCOME    15223 non-null  float64\n",
      " 4   LOAN_NUM_TOTAL     15223 non-null  int64  \n",
      " 5   LOAN_NUM_CLOSED    15223 non-null  int64  \n",
      " 6   GENDER             15223 non-null  int64  \n",
      " 7   SOCSTATUS_WORK_FL  15223 non-null  int64  \n",
      " 8   SOCSTATUS_PENS_FL  15223 non-null  int64  \n",
      " 9   AGE                15223 non-null  int64  \n",
      " 10  AGREEMENT_RK       15223 non-null  int64  \n",
      " 11  TARGET             15223 non-null  int64  \n",
      "dtypes: float64(1), int64(11)\n",
      "memory usage: 1.4 MB\n"
     ]
    }
   ],
   "metadata": {
    "datalore": {
     "node_id": "uX5GgnZTJkpepq8ioTFlbs",
     "type": "CODE",
     "hide_input_from_viewers": true,
     "hide_output_from_viewers": true
    },
    "ExecuteTime": {
     "end_time": "2023-12-12T21:52:33.214087600Z",
     "start_time": "2023-12-12T21:52:33.197047400Z"
    }
   }
  },
  {
   "cell_type": "markdown",
   "source": [
    "Есть выброс в PERSONAL_INCOME, удалим его:"
   ],
   "metadata": {
    "collapsed": false
   }
  },
  {
   "cell_type": "code",
   "source": [
    "df_final = df_final.drop(df_final[df_final[\"PERSONAL_INCOME\"] < 1950].index).reset_index(drop=True)\n",
    "df_final = df_final.drop(\"ID_CLIENT\", axis=1)"
   ],
   "execution_count": 17,
   "outputs": [],
   "metadata": {
    "datalore": {
     "node_id": "1IeprcCaoOvbvmxKEBQOu1",
     "type": "CODE",
     "hide_input_from_viewers": true,
     "hide_output_from_viewers": true
    },
    "ExecuteTime": {
     "end_time": "2023-12-12T21:52:34.059198600Z",
     "start_time": "2023-12-12T21:52:34.042072800Z"
    }
   }
  },
  {
   "cell_type": "markdown",
   "source": [
    "Проверим на дубликаты:"
   ],
   "metadata": {
    "collapsed": false
   }
  },
  {
   "cell_type": "code",
   "execution_count": 21,
   "outputs": [
    {
     "data": {
      "text/plain": "False"
     },
     "execution_count": 21,
     "metadata": {},
     "output_type": "execute_result"
    }
   ],
   "source": [
    "df_final.duplicated().any()"
   ],
   "metadata": {
    "collapsed": false,
    "ExecuteTime": {
     "end_time": "2023-12-12T21:54:10.747018700Z",
     "start_time": "2023-12-12T21:54:10.717997Z"
    }
   }
  },
  {
   "cell_type": "markdown",
   "source": [
    "Сохраняем"
   ],
   "metadata": {
    "collapsed": false
   }
  },
  {
   "cell_type": "code",
   "source": [
    "df_final.to_csv(\"final_bd.csv\", sep=\";\")"
   ],
   "execution_count": 22,
   "outputs": [],
   "metadata": {
    "datalore": {
     "node_id": "HELe4I9bstjfZLM8xC8eze",
     "type": "CODE",
     "hide_input_from_viewers": true,
     "hide_output_from_viewers": true
    },
    "ExecuteTime": {
     "end_time": "2023-12-12T21:54:14.444810300Z",
     "start_time": "2023-12-12T21:54:14.394865600Z"
    }
   }
  }
 ],
 "metadata": {
  "kernelspec": {
   "name": "python3",
   "language": "python",
   "display_name": "Python 3 (ipykernel)"
  },
  "datalore": {
   "computation_mode": "JUPYTER",
   "package_manager": "pip",
   "base_environment": "default",
   "packages": [],
   "report_row_ids": [
    "0r2lOsqs2Wr87oTycaBSg7",
    "b94RJJDpf3Jg3HHHLwFw81",
    "zCgxy7r6RyVsAf2uXmJGYd",
    "W3iXLgV3vzJ5yUDi4KM6vD",
    "vsDJFNvRvCwjyidV8TOIdY",
    "owPyq303wUwVeCxZkp5Pac",
    "41Q7ZOsGlizjO4U8OtLRmF",
    "iWGDa4TSghB19AsrhcDlgg",
    "W6iJQUVtjZIi5WcykwdHLx",
    "uPqN8pzE1rNKqr7r8s4VRa",
    "Kz5zgED8LpezQ6QA3PUHD8",
    "F8ScFQSxHCJZvp7HB3aULg",
    "Qw7EIrR7AWQD4X6ZYJr1ov",
    "dsIuOBMyzQJhIti0seIL1w",
    "feyoTF3GfXZ92EBF7dYY6g",
    "O9FYl1HBnmDRnx9e28vbrT",
    "Y88bNjBG2p3uooqjqMYuvD",
    "VLOWV4MEFRvTdKkvyIbget",
    "QkwBq2mlGjE9J0N0r09vD5",
    "eX887Cu8agl6LgrgbFFyr9",
    "3BjjZfNkwPgZQRgO8ODWqE",
    "dplllpQljruBjYLUuqg8yZ"
   ],
   "version": 3
  }
 },
 "nbformat": 4,
 "nbformat_minor": 4
}
